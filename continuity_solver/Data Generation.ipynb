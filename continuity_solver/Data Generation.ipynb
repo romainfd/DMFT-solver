{
 "cells": [
  {
   "cell_type": "markdown",
   "metadata": {},
   "source": [
    "# Data Generation\n",
    "Script generating spectral density functions with different levels of noise\n"
   ]
  },
  {
   "cell_type": "code",
   "execution_count": 1,
   "metadata": {},
   "outputs": [],
   "source": [
    "import numpy as np\n",
    "from numpy.random import uniform, random\n",
    "from tqdm.notebook import tqdm, trange\n",
    "import matplotlib.pyplot as plt\n",
    "from helpers import Peak\n",
    "import pickle"
   ]
  },
  {
   "cell_type": "code",
   "execution_count": 2,
   "metadata": {},
   "outputs": [
    {
     "data": {
      "text/plain": [
       "array([0. , 0.1, 0.2, 0.3, 0.4, 0.5, 0.6, 0.7, 0.8, 0.9, 1. , 1.1, 1.2,\n",
       "       1.3, 1.4, 1.5, 1.6, 1.7, 1.8, 1.9, 2. , 2.1, 2.2, 2.3, 2.4, 2.5,\n",
       "       2.6, 2.7, 2.8, 2.9, 3. , 3.1, 3.2, 3.3, 3.4, 3.5, 3.6, 3.7, 3.8,\n",
       "       3.9, 4. , 4.1, 4.2, 4.3, 4.4, 4.5, 4.6, 4.7, 4.8, 4.9, 5. ])"
      ]
     },
     "execution_count": 2,
     "metadata": {},
     "output_type": "execute_result"
    }
   ],
   "source": [
    "U_max = 5\n",
    "dw = 0.1\n",
    "\n",
    "def integral(f):\n",
    "    return np.sum(dw * f)\n",
    "\n",
    "Nw = int(U_max / dw)\n",
    "ws = np.linspace(0, U_max, Nw + 1)\n",
    "ws"
   ]
  },
  {
   "cell_type": "code",
   "execution_count": 3,
   "metadata": {},
   "outputs": [
    {
     "name": "stdout",
     "output_type": "stream",
     "text": [
      "{'U': 4.886711354454222, 'peaks': [Peak(center=2.443355677227111, height=0.20448096464522114, width=1.102188799878954, shape='quadratic')]}\n"
     ]
    },
    {
     "data": {
      "text/plain": [
       "[<matplotlib.lines.Line2D at 0x11ee7fba8>]"
      ]
     },
     "execution_count": 3,
     "metadata": {},
     "output_type": "execute_result"
    },
    {
     "data": {
      "image/png": "[encoded data removed]",
      "text/plain": [
       "<Figure size 432x288 with 1 Axes>"
      ]
     },
     "metadata": {
      "needs_background": "light"
     },
     "output_type": "display_data"
    }
   ],
   "source": [
    "def generate_spectral_density(ws, U_max, seed=None):\n",
    "    \"\"\" Returns an array of A[i] containing the values of A at ws[i] \"\"\"\n",
    "    if seed is not None:\n",
    "        np.random.seed(seed)\n",
    "    peaks = []\n",
    "    # Interaction strength\n",
    "    U = uniform(0, U_max)\n",
    "    # Metallic or insulator\n",
    "    metallic = random() < (U_max - U) / U_max\n",
    "    if metallic:\n",
    "        peaks.append(Peak(\n",
    "            0,\n",
    "            0.5,\n",
    "            min(2, 4 / U**2),\n",
    "            'quadratic'\n",
    "        ))\n",
    "    # Generating first peak\n",
    "    peaks.append(Peak(\n",
    "        U / 2,\n",
    "        uniform(0.1, 0.4),\n",
    "        uniform(0.5, 2),\n",
    "        'quadratic'\n",
    "    ))\n",
    "    # Aggregate all the peaks\n",
    "    return aggregate(ws, peaks), {\n",
    "        'U': U,\n",
    "        'peaks': peaks\n",
    "    }\n",
    "\n",
    "def aggregate(ws, peaks):\n",
    "    values = np.max([peak.evaluate(ws) for peak in peaks], axis=0)\n",
    "    # Normalize (ToDo: investigate as it can make us go below 1/2)\n",
    "    return values / integral(values) / 2 # since we only focus on w >= 0)\n",
    "\n",
    "A, params = generate_spectral_density(ws, U_max)\n",
    "print(params)\n",
    "plt.plot(ws, A, 'g')\n",
    "plt.plot(-ws, A, 'g')"
   ]
  },
  {
   "cell_type": "code",
   "execution_count": 4,
   "metadata": {},
   "outputs": [
    {
     "name": "stdout",
     "output_type": "stream",
     "text": [
      "(-0.16364523132369857-0.061485218052587484j)\n"
     ]
    }
   ],
   "source": [
    "def compute_green(A, ws, n):\n",
    "    \"\"\" Computes Integral(A(w) / (iw_n - w)) for a given n\"\"\"\n",
    "    return complex(integral(A / (1j * (2 * n + 1) - ws)))\n",
    "\n",
    "print(compute_green(A, ws, 0))"
   ]
  },
  {
   "cell_type": "code",
   "execution_count": 5,
   "metadata": {},
   "outputs": [
    {
     "data": {
      "text/plain": [
       "[-0.16364523132369857,\n",
       " -0.08254985639219051,\n",
       " -0.04162002167814666,\n",
       " -0.02388760513325707,\n",
       " -0.015236422435710651,\n",
       " -0.061485218052587484,\n",
       " -0.09250004302833932,\n",
       " -0.07749822911753201,\n",
       " -0.06219204920070672,\n",
       " -0.05097052443396978]"
      ]
     },
     "execution_count": 5,
     "metadata": {},
     "output_type": "execute_result"
    }
   ],
   "source": [
    "def compute_greens(A, ws, nw_cutoff=300):\n",
    "    \"\"\" Computes Integral(A(w) / (iw_n - w)) for all n below nw_cutoff\"\"\"\n",
    "    ReG, ImG = [], []\n",
    "    for n in range(nw_cutoff):\n",
    "        z = compute_green(A, ws, n)\n",
    "        ReG.append(z.real)\n",
    "        ImG.append(z.imag)\n",
    "    return ReG + ImG\n",
    "\n",
    "compute_greens(A, ws, nw_cutoff=5)"
   ]
  },
  {
   "cell_type": "markdown",
   "metadata": {},
   "source": [
    "## Full generation of data"
   ]
  },
  {
   "cell_type": "code",
   "execution_count": 6,
   "metadata": {},
   "outputs": [],
   "source": [
    "# ToDo: If model finds data back successfully => add noise !!"
   ]
  },
  {
   "cell_type": "code",
   "execution_count": 7,
   "metadata": {},
   "outputs": [],
   "source": [
    "N_samples = 10"
   ]
  },
  {
   "cell_type": "code",
   "execution_count": 8,
   "metadata": {},
   "outputs": [
    {
     "data": {
      "application/vnd.jupyter.widget-view+json": {
       "model_id": "75720458e917486fb8294bcf7b3179d5",
       "version_major": 2,
       "version_minor": 0
      },
      "text/plain": [
       "HBox(children=(HTML(value=''), FloatProgress(value=0.0, max=10.0), HTML(value='')))"
      ]
     },
     "metadata": {},
     "output_type": "display_data"
    },
    {
     "name": "stdout",
     "output_type": "stream",
     "text": [
      "\n"
     ]
    }
   ],
   "source": [
    "np.random.seed(42)  # for reproductibility\n",
    "results = []\n",
    "for _ in trange(N_samples):\n",
    "    A, params = generate_spectral_density(ws, U_max)\n",
    "    results.append({\n",
    "        'params': params,\n",
    "        'greens': compute_greens(A, ws)\n",
    "    })"
   ]
  },
  {
   "cell_type": "code",
   "execution_count": 9,
   "metadata": {},
   "outputs": [],
   "source": [
    "with open('data.pkl', 'wb+') as out:\n",
    "    pickle.dump(results, out)"
   ]
  },
  {
   "cell_type": "code",
   "execution_count": null,
   "metadata": {},
   "outputs": [],
   "source": []
  }
 ],
 "metadata": {
  "kernelspec": {
   "display_name": "ML",
   "language": "python",
   "name": "ml"
  },
  "language_info": {
   "codemirror_mode": {
    "name": "ipython",
    "version": 3
   },
   "file_extension": ".py",
   "mimetype": "text/x-python",
   "name": "python",
   "nbconvert_exporter": "python",
   "pygments_lexer": "ipython3",
   "version": "3.6.4"
  }
 },
 "nbformat": 4,
 "nbformat_minor": 2
}
