{
 "cells": [
  {
   "cell_type": "code",
   "execution_count": 1,
   "metadata": {},
   "outputs": [],
   "source": [
    "import numpy as np\n",
    "import matplotlib.pyplot as plt\n",
    "import matplotlib as mpl\n",
    "from math import *\n",
    "π = pi\n",
    "import matplotlib.animation as mplanim \n",
    "plt.rc('animation', html='jshtml')\n",
    "from typing import Callable\n",
    "from scipy import integrate\n",
    "from scipy import optimize\n",
    "import scipy.special as ss\n",
    "from mpl_toolkits.axes_grid1 import AxesGrid\n",
    "from tqdm.notebook import tqdm\n",
    "import os\n",
    "#%config InlineBackend.figure_formats = ['svg']\n",
    "plt.rcParams['mpl_toolkits.legacy_colorbar'] = False"
   ]
  },
  {
   "cell_type": "markdown",
   "metadata": {},
   "source": [
    "# General functions"
   ]
  },
  {
   "cell_type": "code",
   "execution_count": 203,
   "metadata": {},
   "outputs": [],
   "source": [
    "def ωn (β:float, n:int) -> float:\n",
    "    return (2*n+1)*π / β\n",
    "\n",
    "def greenmatsubara_time_to_freq (β:float, dτ:float, Gτ:np.array) -> Callable[[int],complex]:\n",
    "    τ = np.arange(0, β+1e-10, dτ)\n",
    "    # between 0 and β integrate G(τ) exp(i.ωn.τ)\n",
    "    f = lambda n: dτ * np.sum( np.exp(1j*ωn(β,n)*τ) * Gτ )\n",
    "    return np.vectorize(f)\n",
    "\n",
    "def greenmatsubara_freq_to_time_sing (β:float, iωn:np.array, Giωn_sing:np.array, halfiωn=False) -> Callable[[float],float]:\n",
    "    # if halfiωn=False, Giωn should have an even size 2N, corresponding to n's in [-n,n[ (eg. [-1,0], [-2,-1,0,1]...)\n",
    "    #                   ( n = np.arange(-len(Giωn_sing)//2, len(Giωn_sing)//2) )\n",
    "    # if halfiωn=True, Giωn should have a size N, corresponding to n's in [0,N[\n",
    "    if halfiωn:\n",
    "        f = lambda τ: 2/β * np.sum( np.real( np.exp(-iωn*τ) * Giωn_sing ) ) + (-1/2 if τ>=0 else +1/2)\n",
    "    else:\n",
    "        f = lambda τ: 1/β * np.sum(          np.exp(-iωn*τ) * Giωn_sing )   + (-1/2 if τ>=0 else +1/2)\n",
    "    return np.vectorize(f)\n",
    "\n",
    "def greenfunc_forget_negfreq (Giωn, iωn=None, n=None):\n",
    "    N = len(Giωn)//2\n",
    "    if n is None:\n",
    "        if iωn is None:\n",
    "            return Giωn[N:]\n",
    "        else:\n",
    "            return Giωn[N:], iωn[N:]\n",
    "    else:\n",
    "        return Giωn[N:], iωn[N:], n[N:]\n",
    "\n",
    "def greenfunc_extend_negfreq (Giωn):\n",
    "    N = len(Giωn)\n",
    "    Giωn_new = np.zeros(2*N, dtype=np.complex128)\n",
    "    Giωn_new[N:] = Giωn\n",
    "    Giωn_new[:N] = np.flip( np.real(Giωn) -1j * np.imag(Giωn) )\n",
    "    n = np.arange(-N,N)\n",
    "    iωn = 1j*ωn(β,n)\n",
    "    return Giωn_new, iωn, n"
   ]
  },
  {
   "cell_type": "code",
   "execution_count": 3,
   "metadata": {},
   "outputs": [],
   "source": [
    "def Giωn_at (β, iωn, U):\n",
    "    return 1/2 / ( iωn - U/2 ) + 1/2 / ( iωn + U/2 )\n",
    "\n",
    "def Gτ_at (β, τ, U):\n",
    "    return -1/2 * np.exp(-τ*U/2) / ( np.exp(-β*U/2) + 1 ) -1/2 * np.exp(+τ*U/2) / ( np.exp(+β*U/2) + 1 )\n",
    "\n",
    "def G0_loc_iωn (latt_hilbert, iωn, µ):\n",
    "    return latt_hilbert(iωn+µ)"
   ]
  },
  {
   "cell_type": "code",
   "execution_count": 14,
   "metadata": {},
   "outputs": [],
   "source": [
    "def plot_Gτ_without_discont (Gτ_f, τ, ax=None, **kwargs):\n",
    "    if ax is None:\n",
    "        ax = plt.gca()\n",
    "    pos = np.where(τ >= 0)[0][0]\n",
    "    Gτ = np.insert(np.real(Gτ_f(τ)), pos, np.nan)\n",
    "    τ = np.insert(τ, pos, np.nan)\n",
    "    plt.plot(τ,Gτ,**kwargs)"
   ]
  },
  {
   "cell_type": "code",
   "execution_count": 175,
   "metadata": {},
   "outputs": [],
   "source": [
    "# t = 1 implicitely here, for the Bethe lattice\n",
    "\n",
    "def latt_Bethe_DoS (ϵ:float) -> float:\n",
    "    return 1/(2*π) * np.sqrt(4-ϵ**2)\n",
    "\n",
    "def latt_Bethe_hilbert (z:complex) -> complex:\n",
    "    s = np.sign(np.imag(z))\n",
    "    return ( z - 1j*s*np.sqrt(4 - z**2) ) /2\n",
    "\n",
    "def latt_Bethe_R (η:complex) -> complex:\n",
    "#    if np.any(np.abs(η)>1):\n",
    "#        raise ValueError(\"the reciprocal Hilbert transform for the Bethe lattice is defined only on {|z|<1}\")\n",
    "    return η + 1/η"
   ]
  },
  {
   "cell_type": "code",
   "execution_count": 5,
   "metadata": {},
   "outputs": [],
   "source": [
    "# eq (self-consistent-eq-reciproc-Hilbert-fromcavity)\n",
    "\n",
    "def imp_Gbath_from_Gloc (R:Callable[[complex],complex], iωn:np.array, Gloc_iωn:np.array, µ:float) -> np.array:\n",
    "    return 1 /( iωn + µ + 1/Gloc_iωn - R(Gloc_iωn) )"
   ]
  },
  {
   "cell_type": "markdown",
   "metadata": {},
   "source": [
    "# IPT DMFT loop"
   ]
  },
  {
   "cell_type": "code",
   "execution_count": 271,
   "metadata": {},
   "outputs": [],
   "source": [
    "def impurity_solver_IPT (β:float, U:float, iωn:np.array, Gbath_iωn:np.array, dτ=1e-3, halfiωn=False) -> Callable[[int],complex]:\n",
    "    # Gbath_iωn should have an even size 2N, corresponding to n's in [-N,N[ (eg. [-1,0], [-2,-1,0,1]...)\n",
    "    Gbath_shift_iωn = 1/( 1/Gbath_iωn - U/2 )\n",
    "    τ = np.arange(0, β+1e-10, dτ)\n",
    "    Gbath_shift_τ = greenmatsubara_freq_to_time_sing(β, iωn, Gbath_shift_iωn-1/iωn, halfiωn)\n",
    "    Gbath_shift_τ = Gbath_shift_τ(τ)\n",
    "                                   # between 0 and β integrate G(τ)^3 exp(i.ωn.τ)\n",
    "    f = lambda n: U/2 + U**2 * dτ * np.sum( np.exp(1j*ωn(β,n)*τ) * Gbath_shift_τ**3 )\n",
    "    return np.vectorize(f)#, τ, Gbath_shift_τ"
   ]
  },
  {
   "cell_type": "code",
   "execution_count": 303,
   "metadata": {},
   "outputs": [],
   "source": [
    "def plot_Giωn (ax, G_iωn, name=\"G\", twinx_im=False):\n",
    "    n = np.arange(-len(G_iωn)//2,len(G_iωn)//2)\n",
    "    if twinx_im:\n",
    "        ax_im = ax.twinx()\n",
    "    else:\n",
    "        ax_im = ax\n",
    "    ax_im.plot(n, np.imag(G_iωn), '.--', lw=1, label='im. part', color='blue')\n",
    "    ax.plot(n, np.real(G_iωn), '.--', lw=1, label='re. part', color='orange')\n",
    "    ax.set_xlabel(\"$n$\")\n",
    "    ax.set_title(\"$\"+name+r\"(i\\omega_n)$\")\n",
    "    ax.legend(loc='upper left')\n",
    "    if twinx_im:\n",
    "        ax_im.legend(loc='upper right')\n",
    "        m = 1.5 * np.max(np.abs(np.real(G_iωn)))\n",
    "        ax.set_ylim((-m,+m))\n",
    "        \n",
    "def DMFT_loop_Gloc (β, U, latt_R, Gloc_iωn_0, conv_thresh=1e-5, γ=0.9, callback=None, internal_halfiωn=False, discard_real_part=0, IPT_dτ=1e-3):\n",
    "    µ = U/2\n",
    "    n = np.arange(-len(Gloc_iωn_0)//2,len(Gloc_iωn_0)//2)\n",
    "    iωn = 1j*ωn(β,n)\n",
    "    Gloc_iωn = Gloc_iωn_0\n",
    "    if internal_halfiωn:\n",
    "        Gloc_iωn, iωn, n = greenfunc_forget_negfreq(Gloc_iωn_0, iωn, n)\n",
    "\n",
    "    maxit = max(100,int(β))\n",
    "    for it in range(maxit):\n",
    "\n",
    "        # DMFT loop\n",
    "        Gbath_iωn = imp_Gbath_from_Gloc (latt_Bethe_R, iωn, Gloc_iωn, µ)\n",
    "        Σloc_iωn = impurity_solver_IPT (β, U, iωn, Gbath_iωn, dτ=IPT_dτ, halfiωn=internal_halfiωn)\n",
    "        Σloc_iωn = Σloc_iωn(n)\n",
    "        Gloc_iωn_new = latt_Bethe_hilbert( iωn + µ - Σloc_iωn )\n",
    "        # or : Gloc_iωn_new = 1 / ( 1/Gbath_iωn - Σloc_iωn )\n",
    "        Gloc_iωn_new -= discard_real_part * np.real(Gloc_iωn_new)\n",
    "\n",
    "        norm1_diff = np.linalg.norm(Gloc_iωn-Gloc_iωn_new, ord=1)\n",
    "        if callback is not None:\n",
    "            callback(it,iωn,Σloc_iωn,Gloc_iωn_new,norm1_diff)\n",
    "        if norm1_diff < conv_thresh:\n",
    "            Gloc_iωn = Gloc_iωn_new\n",
    "            break\n",
    "        Gloc_iωn = (1-γ) * Gloc_iωn + γ * Gloc_iωn_new\n",
    "    \n",
    "    if it == maxit-1:\n",
    "        raise RuntimeError(\"DMFT loop did not converge\")\n",
    "    if internal_halfiωn:\n",
    "        return µ, greenfunc_extend_negfreq(Gloc_iωn)[0], greenfunc_extend_negfreq(Σloc_iωn)[0], greenfunc_extend_negfreq(Gbath_iωn)[0]\n",
    "    else:\n",
    "        return µ, Gloc_iωn, Σloc_iωn, Gbath_iωn"
   ]
  },
  {
   "cell_type": "code",
   "execution_count": 136,
   "metadata": {},
   "outputs": [],
   "source": [
    "def cb_print_delta (it, iωn, Σloc_iωn, Gloc_iωn_new, norm1_diff):\n",
    "    n = len(iωn)//2\n",
    "    deriv0 = (Σloc_iωn[n+1] - Σloc_iωn[n]).imag / (iωn[n+1] - iωn[n]).imag\n",
    "    print(\"L1delta\",norm1_diff,\"; deriv0 \",deriv0)"
   ]
  },
  {
   "cell_type": "code",
   "execution_count": 465,
   "metadata": {
    "scrolled": false
   },
   "outputs": [
    {
     "name": "stdout",
     "output_type": "stream",
     "text": [
      "L1delta 1.1780520161597252e-06\n",
      "L1delta 5.281172268910284e-07\n",
      "L1delta 2.4644664732911825e-07\n",
      "L1delta 1.1412529008110461e-07\n",
      "L1delta 5.2976898099257874e-08\n",
      "L1delta 2.457192720649315e-08\n",
      "L1delta 1.1400387772697584e-08\n",
      "L1delta 5.288839392478262e-09\n",
      "L1delta 2.4538402247642477e-09\n",
      "L1delta 1.1385315277362418e-09\n",
      "L1delta 5.283398319538835e-10\n"
     ]
    },
    {
     "data": {
      "image/png": "[encoded data removed]",
      "text/plain": [
       "<Figure size 1080x288 with 4 Axes>"
      ]
     },
     "metadata": {
      "needs_background": "light"
     },
     "output_type": "display_data"
    }
   ],
   "source": [
    "β = 50\n",
    "U = 5.25\n",
    "iωn = 1j*ωn(β,np.arange(-600,+600))\n",
    "Gloc_iωn_0 = G0_loc_iωn(latt_Bethe_hilbert, iωn, 0)     # metallic initial condition\n",
    "#Gloc_iωn_0 = Giωn_at(β, iωn, U)        # atomic limit initial condition\n",
    "Gloc_iωn_0 = Gloc_iωn_base\n",
    "\n",
    "def cb_reg_real_part (it, iωn, Σloc_iωn, Gloc_iωn_new, norm1_diff):\n",
    "    print(\"L1delta\",norm1_diff)\n",
    "    return\n",
    "  #  fig, (ax1,ax2,ax3) = plt.subplots(ncols=3, figsize=(16,5))\n",
    "    fig, (ax1,ax2) = plt.subplots(ncols=2, figsize=(12,5))\n",
    "    fig.suptitle(r\"Init. increasing $U$, $U={}, \\beta={}$. DMFT loop iter {}\".format(U,β,it))\n",
    "    plot_Giωn(ax1, greenfunc_extend_negfreq(Σloc_iωn)[0], \"\\Sigma_\\operatorname{loc}\", twinx_im=True)\n",
    "    ax1.set_ylim((-4,4))\n",
    "    plot_Giωn(ax2, greenfunc_extend_negfreq(Gloc_iωn_new)[0], \"G_\\operatorname{loc}\")\n",
    "    ax2.set_ylim((-1.1,1.1))\n",
    "    fig.tight_layout()\n",
    "    plt.savefig(\"anim/{}.png\".format(it), bbox_inches='tight')\n",
    "    plt.show()\n",
    "\n",
    "µ, Gloc_iωn, Σloc_iωn, Gbath_iωn = DMFT_loop_Gloc (β, U, latt_Bethe_R, Gloc_iωn_0, γ=1.2, conv_thresh=1e-9, discard_real_part=1, callback=cb_reg_real_part, IPT_dτ=1e-4, internal_halfiωn=True)\n",
    "\n",
    "fig, (ax1,ax2,ax3) = plt.subplots(ncols=3, figsize=(15,4))\n",
    "plot_Giωn(ax1, Gloc_iωn, \"G_\\operatorname{loc}\")\n",
    "plot_Giωn(ax2, Σloc_iωn, \"\\Sigma_\\operatorname{loc}\", twinx_im=True)\n",
    "plot_Giωn(ax3, Gbath_iωn, \"G_\\operatorname{bath}\")\n",
    "fig.suptitle(r\"$U={}, \\beta={}$\".format(U,β))\n",
    "fig.tight_layout()"
   ]
  },
  {
   "cell_type": "code",
   "execution_count": 464,
   "metadata": {},
   "outputs": [],
   "source": [
    "Gloc_iωn_base = Gloc_iωn"
   ]
  },
  {
   "cell_type": "code",
   "execution_count": 466,
   "metadata": {},
   "outputs": [],
   "source": [
    "tau = np.linspace(0,β,10000)\n",
    "Gtau_ref = greenmatsubara_freq_to_time_sing (β, iωn, Gloc_iωn-1/iωn)\n",
    "Gtau_ref = Gtau_ref(tau)"
   ]
  },
  {
   "cell_type": "code",
   "execution_count": 441,
   "metadata": {
    "scrolled": false
   },
   "outputs": [
    {
     "name": "stdout",
     "output_type": "stream",
     "text": [
      "1\n",
      "L1delta 4.976790217485469 ; deriv0  -4.1833080371437505\n",
      "L1delta 0.8320747342297989 ; deriv0  -3.7903298270116075\n",
      "L1delta 0.1689688389556227 ; deriv0  -3.5609461917609555\n",
      "L1delta 0.10418938489778429 ; deriv0  -3.4405003964580567\n",
      "L1delta 0.05168982369110673 ; deriv0  -3.3789321475375003\n",
      "L1delta 0.026762569262874025 ; deriv0  -3.347632831435517\n",
      "L1delta 0.013656243673024204 ; deriv0  -3.3317345847020157\n",
      "L1delta 0.006961462218753215 ; deriv0  -3.3236593320659082\n",
      "L1delta 0.003542053174171278 ; deriv0  -3.3195573408999226\n",
      "L1delta 0.0018009500377519465 ; deriv0  -3.3174735394046606\n",
      "L1delta 0.0009153113922597093 ; deriv0  -3.3164149416060282\n",
      "L1delta 0.00046510286556510766 ; deriv0  -3.3158771518944654\n",
      "L1delta 0.00023631105959973087 ; deriv0  -3.3156039413072778\n",
      "L1delta 0.00012005944111721789 ; deriv0  -3.315465142938272\n",
      "L1delta 6.099538662319298e-05 ; deriv0  -3.315394629463174\n",
      "L1delta 3.098787335747977e-05 ; deriv0  -3.315358806596194\n",
      "L1delta 1.574285760015323e-05 ; deriv0  -3.315340607542795\n",
      "L1delta 7.997860768316906e-06 ; deriv0  -3.315331361894294\n",
      "L1delta 4.063154493579718e-06 ; deriv0  -3.3153266648352537\n",
      "L1delta 2.0642032036687075e-06 ; deriv0  -3.3153242785921275\n",
      "L1delta 1.0486760770485326e-06 ; deriv0  -3.3153230663109046\n",
      "L1delta 5.327582556953481e-07 ; deriv0  -3.315322450436618\n",
      "L1delta 2.706567621343914e-07 ; deriv0  -3.3153221375544772\n",
      "L1delta 1.3750157419264997e-07 ; deriv0  -3.315321978601203\n",
      "L1delta 6.985486492028237e-08 ; deriv0  -3.3153218978482983\n",
      "L1delta 3.5488211761608435e-08 ; deriv0  -3.3153218568234584\n",
      "L1delta 1.802914735560268e-08 ; deriv0  -3.3153218359816408\n",
      "L1delta 9.159272198328017e-09 ; deriv0  -3.3153218253933856\n",
      "0.5\n",
      "L1delta 2.3831432645894504 ; deriv0  0.3418426882852392\n",
      "L1delta 0.2815303980340526 ; deriv0  0.3355470417578115\n",
      "L1delta 0.04460887686272991 ; deriv0  0.33544629274261223\n",
      "L1delta 0.019092028748886075 ; deriv0  0.3352305691896141\n",
      "L1delta 0.008720715394899478 ; deriv0  0.3351359139079549\n",
      "L1delta 0.004515350470997735 ; deriv0  0.33508655299602325\n",
      "L1delta 0.002286937883820943 ; deriv0  0.33506150844911947\n",
      "L1delta 0.0011626813535250483 ; deriv0  0.3350487655743878\n",
      "L1delta 0.0005902857699871741 ; deriv0  0.33504229238805794\n",
      "L1delta 0.0002996650179829044 ; deriv0  0.3350390053625417\n",
      "L1delta 0.00015210362790213025 ; deriv0  0.33503733670297225\n",
      "L1delta 7.720020553753093e-05 ; deriv0  0.33503648971601463\n",
      "L1delta 3.918164268695151e-05 ; deriv0  0.33503605982693857\n",
      "L1delta 1.9885650072447997e-05 ; deriv0  0.3350358416436986\n",
      "L1delta 1.0092372967392821e-05 ; deriv0  0.33503573091023914\n",
      "L1delta 5.1220634602021364e-06 ; deriv0  0.3350356747107264\n",
      "L1delta 2.599535063256553e-06 ; deriv0  0.3350356461884443\n",
      "L1delta 1.3193071363541697e-06 ; deriv0  0.335035631712893\n",
      "L1delta 6.695699852447834e-07 ; deriv0  0.33503562436631124\n",
      "L1delta 3.398175011139204e-07 ; deriv0  0.335035620637801\n",
      "L1delta 1.7246302440321326e-07 ; deriv0  0.3350356187455198\n",
      "L1delta 8.752757237398545e-08 ; deriv0  0.33503561778515945\n",
      "L1delta 4.442176761154659e-08 ; deriv0  0.3350356172977605\n",
      "L1delta 2.2544705050725478e-08 ; deriv0  0.3350356170503958\n",
      "L1delta 1.1441827336283739e-08 ; deriv0  0.335035616924856\n",
      "L1delta 5.80688389387185e-09 ; deriv0  0.3350356168611421\n",
      "0.1\n",
      "L1delta 0.16945356307413417 ; deriv0  0.017003860131560918\n",
      "L1delta 0.01736314745836439 ; deriv0  0.017002680099133714\n",
      "L1delta 0.0025925707021360773 ; deriv0  0.01700274693620598\n",
      "L1delta 0.0006875615758177404 ; deriv0  0.017002721535943892\n",
      "L1delta 0.0002956127515460344 ; deriv0  0.017002714666510765\n",
      "L1delta 0.00014469974520365386 ; deriv0  0.017002710599342597\n",
      "L1delta 7.323010107413569e-05 ; deriv0  0.01700270858888896\n",
      "L1delta 3.720680622461628e-05 ; deriv0  0.017002707560793154\n",
      "L1delta 1.8920271607658634e-05 ; deriv0  0.01700270703851069\n",
      "L1delta 9.621817610067779e-06 ; deriv0  0.0170027067728482\n",
      "L1delta 4.893117253552959e-06 ; deriv0  0.01700270663775109\n",
      "L1delta 2.4883607308151534e-06 ; deriv0  0.017002706569047794\n",
      "L1delta 1.2654366741658707e-06 ; deriv0  0.017002706534109645\n",
      "L1delta 6.435276592997585e-07 ; deriv0  0.017002706516342152\n",
      "L1delta 3.2726062872134865e-07 ; deriv0  0.01700270650730649\n",
      "L1delta 1.6642573848202336e-07 ; deriv0  0.017002706502711483\n",
      "L1delta 8.463441920555925e-08 ; deriv0  0.01700270650037456\n",
      "L1delta 4.30401127932134e-08 ; deriv0  0.017002706499186435\n",
      "L1delta 2.1887663938235935e-08 ; deriv0  0.01700270649858189\n",
      "L1delta 1.1130882139609444e-08 ; deriv0  0.01700270649827427\n",
      "L1delta 5.660564544873736e-09 ; deriv0  0.017002706498117918\n",
      "0.05\n",
      "L1delta 0.03282614631470582 ; deriv0  0.008449553973792748\n",
      "L1delta 0.003383771295022566 ; deriv0  0.008449409910148574\n",
      "L1delta 0.0005548725941943826 ; deriv0  0.008449417982497515\n",
      "L1delta 0.00016277040421476194 ; deriv0  0.00844941485732137\n",
      "L1delta 7.360778378560917e-05 ; deriv0  0.008449414004762646\n",
      "L1delta 3.62041236081391e-05 ; deriv0  0.00844941350143832\n",
      "L1delta 1.8378988000774393e-05 ; deriv0  0.008449413252528553\n",
      "L1delta 9.33377173029104e-06 ; deriv0  0.008449413125253135\n",
      "L1delta 4.74746622530775e-06 ; deriv0  0.008449413060588704\n",
      "L1delta 2.414316455829485e-06 ; deriv0  0.008449413027698013\n",
      "L1delta 1.2278815471680748e-06 ; deriv0  0.008449413010968297\n",
      "L1delta 6.244722252080059e-07 ; deriv0  0.008449413002460975\n",
      "L1delta 3.1759290754565517e-07 ; deriv0  0.008449412998135642\n",
      "L1delta 1.6152069000699432e-07 ; deriv0  0.00844941299593598\n",
      "L1delta 8.214589814273254e-08 ; deriv0  0.008449412994816158\n",
      "L1delta 4.177768697655182e-08 ; deriv0  0.00844941299424675\n",
      "L1delta 2.1247266581564395e-08 ; deriv0  0.008449412993956525\n",
      "L1delta 1.0805968921751008e-08 ; deriv0  0.008449412993812517\n",
      "L1delta 5.495793008181149e-09 ; deriv0  0.008449412993736315\n",
      "0.01\n",
      "L1delta 0.0012712126246788857 ; deriv0  0.0068746745974706475\n",
      "L1delta 0.0001311758362381732 ; deriv0  0.006874668919392249\n",
      "L1delta 2.1768845534699682e-05 ; deriv0  0.0068746692379850986\n",
      "L1delta 6.463301285335177e-06 ; deriv0  0.00687466911494004\n",
      "L1delta 2.9368233367098318e-06 ; deriv0  0.006874669081414564\n",
      "L1delta 1.4460389293376175e-06 ; deriv0  0.006874669061615832\n",
      "L1delta 7.342461282346113e-07 ; deriv0  0.006874669051825025\n",
      "L1delta 3.7290916459972734e-07 ; deriv0  0.006874669046819406\n",
      "L1delta 1.8967972559638668e-07 ; deriv0  0.006874669044276287\n",
      "L1delta 9.646388322154253e-08 ; deriv0  0.006874669042981758\n",
      "L1delta 4.906114791508598e-08 ; deriv0  0.006874669042324001\n",
      "L1delta 2.4952115231652305e-08 ; deriv0  0.006874669041989601\n",
      "L1delta 1.2690435854945115e-08 ; deriv0  0.006874669041818867\n",
      "L1delta 6.454351914042533e-09 ; deriv0  0.0068746690417327274\n",
      "0.005\n",
      "L1delta 0.0003174214627176264 ; deriv0  0.006831339930656689\n",
      "L1delta 3.2755455085718005e-05 ; deriv0  0.006831338511987722\n",
      "L1delta 5.437592408938374e-06 ; deriv0  0.006831338591573373\n",
      "L1delta 1.6149779833857236e-06 ; deriv0  0.006831338560827128\n",
      "L1delta 7.339145183006546e-07 ; deriv0  0.0068313385524492376\n",
      "L1delta 3.6137665772317806e-07 ; deriv0  0.006831338547501266\n",
      "L1delta 1.8349507199116877e-07 ; deriv0  0.006831338545054448\n",
      "L1delta 9.319370605775923e-08 ; deriv0  0.006831338543803651\n",
      "L1delta 4.740289725330138e-08 ; deriv0  0.006831338543167981\n",
      "L1delta 2.4107469305534313e-08 ; deriv0  0.006831338542843963\n",
      "L1delta 1.2261019390752415e-08 ; deriv0  0.006831338542680296\n",
      "L1delta 6.235904653761892e-09 ; deriv0  0.006831338542597027\n",
      "0.001\n",
      "L1delta 1.2570952921509004e-05 ; deriv0  0.006817540880919607\n",
      "L1delta 1.2971091171050386e-06 ; deriv0  0.00681754082472539\n",
      "L1delta 2.152856537207537e-07 ; deriv0  0.00681754082787922\n",
      "L1delta 6.3928342897146e-08 ; deriv0  0.006817540826661332\n",
      "L1delta 2.9050085691151306e-08 ; deriv0  0.006817540826329141\n",
      "L1delta 1.4303940979593088e-08 ; deriv0  0.006817540826133227\n",
      "L1delta 7.26303973908049e-09 ; deriv0  0.0068175408260367065\n",
      "0.0005\n",
      "L1delta 3.0471945402510414e-06 ; deriv0  0.006817110190153347\n",
      "L1delta 3.1431704988760245e-07 ; deriv0  0.006817110176531738\n",
      "L1delta 5.211723199533003e-08 ; deriv0  0.006817110177297059\n",
      "L1delta 1.5461247542675194e-08 ; deriv0  0.006817110177003521\n",
      "L1delta 7.023645165471493e-09 ; deriv0  0.006817110176922902\n"
     ]
    }
   ],
   "source": [
    "Gloc_iωn_s = []\n",
    "Σloc_iωn_s = []\n",
    "Zs = []\n",
    "#Dtau = [1,0.5,0.1,0.05,0.01,0.005,0.001,0.0005,0.0001,0.00005,0.00001]\n",
    "Dtau = [1,0.5,0.1,0.05,0.01,0.005,0.001,0.0005,0.0001]\n",
    "for dtau in Dtau:\n",
    "    print(dtau)\n",
    "    µ, Gloc_iωn, Σloc_iωn, _ = DMFT_loop_Gloc (β, U, latt_Bethe_R, Gloc_iωn_base, γ=1.1, conv_thresh=1e-8, discard_real_part=1, callback=cb_print_delta, IPT_dτ=dtau, internal_halfiωn=True)\n",
    "    Gloc_iωn_s.append(Gloc_iωn)\n",
    "    Σloc_iωn_s.append(Σloc_iωn)\n",
    "    Zs.append(quasipart_z (iωn, Σloc_iωn))"
   ]
  },
  {
   "cell_type": "code",
   "execution_count": 467,
   "metadata": {},
   "outputs": [
    {
     "data": {
      "application/vnd.jupyter.widget-view+json": {
       "model_id": "764a03ece3a244f59c7c8f4c2d786925",
       "version_major": 2,
       "version_minor": 0
      },
      "text/plain": [
       "HBox(children=(HTML(value=''), FloatProgress(value=0.0, max=11.0), HTML(value='')))"
      ]
     },
     "metadata": {},
     "output_type": "display_data"
    },
    {
     "name": "stdout",
     "output_type": "stream",
     "text": [
      "\n"
     ]
    }
   ],
   "source": [
    "Dtau = [1,0.5,0.1,0.05,0.01,0.005,0.001,0.0005,0.0001,0.00005,0.00001]\n",
    "L1deltaGloc_100 = []\n",
    "for i in range(len(Dtau)):\n",
    "    L1deltaGloc_100.append(np.linalg.norm(Gloc_iωn_s_100[i]-Gloc_iωn_s_100[-1],ord=1))\n",
    "L1deltaGloctau_100 = []\n",
    "for i in tqdm(range(len(Dtau))):\n",
    "    iωn = 1j*ωn(β,np.arange(-100,+100))\n",
    "    Gtau = greenmatsubara_freq_to_time_sing (β, iωn, Gloc_iωn_s_100[i]-1/iωn)\n",
    "    Gtau = Gtau(tau)\n",
    "    L1deltaGloctau_100.append(np.linalg.norm(Gtau-Gtau_ref,ord=1)/len(tau))"
   ]
  },
  {
   "cell_type": "code",
   "execution_count": 468,
   "metadata": {},
   "outputs": [
    {
     "data": {
      "application/vnd.jupyter.widget-view+json": {
       "model_id": "9feb20fa256d453c9d7c31c7257abe2d",
       "version_major": 2,
       "version_minor": 0
      },
      "text/plain": [
       "HBox(children=(HTML(value=''), FloatProgress(value=0.0, max=11.0), HTML(value='')))"
      ]
     },
     "metadata": {},
     "output_type": "display_data"
    },
    {
     "name": "stdout",
     "output_type": "stream",
     "text": [
      "\n"
     ]
    }
   ],
   "source": [
    "Dtau = [1,0.5,0.1,0.05,0.01,0.005,0.001,0.0005,0.0001,0.00005,0.00001]\n",
    "L1deltaGloc_200 = []\n",
    "for i in range(len(Dtau)):\n",
    "    L1deltaGloc_200.append(np.linalg.norm(Gloc_iωn_s_200[i]-Gloc_iωn_s_200[-1],ord=1))\n",
    "L1deltaGloctau_200 = []\n",
    "for i in tqdm(range(len(Dtau))):\n",
    "    iωn = 1j*ωn(β,np.arange(-200,+200))\n",
    "    Gtau = greenmatsubara_freq_to_time_sing (β, iωn, Gloc_iωn_s_200[i]-1/iωn)\n",
    "    Gtau = Gtau(tau)\n",
    "    L1deltaGloctau_200.append(np.linalg.norm(Gtau-Gtau_ref,ord=1)/len(tau))"
   ]
  },
  {
   "cell_type": "code",
   "execution_count": 469,
   "metadata": {},
   "outputs": [
    {
     "data": {
      "application/vnd.jupyter.widget-view+json": {
       "model_id": "7f48ef7299844590964527483fdef792",
       "version_major": 2,
       "version_minor": 0
      },
      "text/plain": [
       "HBox(children=(HTML(value=''), FloatProgress(value=0.0, max=9.0), HTML(value='')))"
      ]
     },
     "metadata": {},
     "output_type": "display_data"
    },
    {
     "name": "stdout",
     "output_type": "stream",
     "text": [
      "\n"
     ]
    }
   ],
   "source": [
    "Dtau = [1,0.5,0.1,0.05,0.01,0.005,0.001,0.0005,0.0001]\n",
    "L1deltaGloc_300 = []\n",
    "for i in range(len(Dtau)):\n",
    "    L1deltaGloc_300.append(np.linalg.norm(Gloc_iωn_s_300[i]-Gloc_iωn_s_300[-1],ord=1))\n",
    "L1deltaGloctau_300 = []\n",
    "for i in tqdm(range(len(Dtau))):\n",
    "    iωn = 1j*ωn(β,np.arange(-300,+300))\n",
    "    Gtau = greenmatsubara_freq_to_time_sing (β, iωn, Gloc_iωn_s_300[i]-1/iωn)\n",
    "    Gtau = Gtau(tau)\n",
    "    L1deltaGloctau_300.append(np.linalg.norm(Gtau-Gtau_ref,ord=1)/len(tau))"
   ]
  },
  {
   "cell_type": "code",
   "execution_count": 470,
   "metadata": {},
   "outputs": [
    {
     "data": {
      "application/vnd.jupyter.widget-view+json": {
       "model_id": "9d03b8a8fa4546dcb42e3b94bb4eee31",
       "version_major": 2,
       "version_minor": 0
      },
      "text/plain": [
       "HBox(children=(HTML(value=''), FloatProgress(value=0.0, max=9.0), HTML(value='')))"
      ]
     },
     "metadata": {},
     "output_type": "display_data"
    },
    {
     "name": "stdout",
     "output_type": "stream",
     "text": [
      "\n"
     ]
    }
   ],
   "source": [
    "Dtau = [1,0.5,0.1,0.05,0.01,0.005,0.001,0.0005,0.0001]\n",
    "L1deltaGloc_400 = []\n",
    "for i in range(len(Dtau)):\n",
    "    L1deltaGloc_400.append(np.linalg.norm(Gloc_iωn_s_400[i]-Gloc_iωn_s_400[-1],ord=1))\n",
    "L1deltaGloctau_400 = []\n",
    "for i in tqdm(range(len(Dtau))):\n",
    "    iωn = 1j*ωn(β,np.arange(-400,+400))\n",
    "    Gtau = greenmatsubara_freq_to_time_sing (β, iωn, Gloc_iωn_s_400[i]-1/iωn)\n",
    "    Gtau = Gtau(tau)\n",
    "    L1deltaGloctau_400.append(np.linalg.norm(Gtau-Gtau_ref,ord=1)/len(tau))"
   ]
  },
  {
   "cell_type": "code",
   "execution_count": 471,
   "metadata": {},
   "outputs": [
    {
     "data": {
      "application/vnd.jupyter.widget-view+json": {
       "model_id": "6f43b6b236d84081a47213d98a62ec11",
       "version_major": 2,
       "version_minor": 0
      },
      "text/plain": [
       "HBox(children=(HTML(value=''), FloatProgress(value=0.0, max=9.0), HTML(value='')))"
      ]
     },
     "metadata": {},
     "output_type": "display_data"
    },
    {
     "name": "stdout",
     "output_type": "stream",
     "text": [
      "\n"
     ]
    }
   ],
   "source": [
    "Dtau = [1,0.5,0.1,0.05,0.01,0.005,0.001,0.0005,0.0001]\n",
    "L1deltaGloc_500 = []\n",
    "for i in range(len(Dtau)):\n",
    "    L1deltaGloc_500.append(np.linalg.norm(Gloc_iωn_s_500[i]-Gloc_iωn_s_500[-1],ord=1))\n",
    "L1deltaGloctau_500 = []\n",
    "for i in tqdm(range(len(Dtau))):\n",
    "    iωn = 1j*ωn(β,np.arange(-500,+500))\n",
    "    Gtau = greenmatsubara_freq_to_time_sing (β, iωn, Gloc_iωn_s_500[i]-1/iωn)\n",
    "    Gtau = Gtau(tau)\n",
    "    L1deltaGloctau_500.append(np.linalg.norm(Gtau-Gtau_ref,ord=1)/len(tau))"
   ]
  },
  {
   "cell_type": "code",
   "execution_count": 449,
   "metadata": {},
   "outputs": [],
   "source": [
    "Zs_500 = Zs\n",
    "Gloc_iωn_s_500 = Gloc_iωn_s\n",
    "Σloc_iωn_s_500 = Σloc_iωn_s"
   ]
  },
  {
   "cell_type": "code",
   "execution_count": 483,
   "metadata": {},
   "outputs": [],
   "source": [
    "Dtau = [1,0.5,0.1,0.05,0.01,0.005,0.001,0.0005,0.0001]\n",
    "np.savez(\"n500.npz\", Gloc_s=Gloc_iωn_s_500, Sigmaloc_s=Σloc_iωn_s_500, dtau_s=Dtau, iwn=1j*ωn(β,np.arange(-500,+500)))"
   ]
  },
  {
   "cell_type": "code",
   "execution_count": 487,
   "metadata": {},
   "outputs": [],
   "source": [
    "Dtau = [1,0.5,0.1,0.05,0.01,0.005,0.001,0.0005,0.0001,0.00005,0.00001]\n",
    "np.savez(\"n100.npz\", Gloc_s=Gloc_iωn_s_100, Z_s=Zs_100, dtau_s=Dtau, iwn=1j*ωn(β,np.arange(-100,+100)))"
   ]
  },
  {
   "cell_type": "code",
   "execution_count": 565,
   "metadata": {},
   "outputs": [
    {
     "data": {
      "image/png": "[encoded data removed]",
      "text/plain": [
       "<Figure size 432x288 with 1 Axes>"
      ]
     },
     "metadata": {
      "needs_background": "light"
     },
     "output_type": "display_data"
    }
   ],
   "source": [
    "Dtau = [1,0.5,0.1,0.05,0.01,0.005,0.001,0.0005,0.0001,0.00005,0.00001]\n",
    "plt.plot(Dtau, L1deltaGloctau_100, 'D--', label=\"$n_\\operatorname{cut}=100$\")\n",
    "Dtau = [1,0.5,0.1,0.05,0.01,0.005,0.001,0.0005,0.0001,0.00005,0.00001]\n",
    "plt.plot(Dtau, L1deltaGloctau_200, '*--', label=\"$n_\\operatorname{cut}=200$\")\n",
    "Dtau = [1,0.5,0.1,0.05,0.01,0.005,0.001,0.0005,0.0001]\n",
    "plt.plot(Dtau, L1deltaGloctau_300, 'o--', label=\"$n_\\operatorname{cut}=300$\")\n",
    "plt.plot(Dtau, L1deltaGloctau_400, 'X--', label=\"$n_\\operatorname{cut}=400$\")\n",
    "Dtau = [1,0.5,0.1,0.05,0.01,0.005,0.001,0.0005,0.0001]\n",
    "plt.plot(Dtau, L1deltaGloctau_500, 'P--', label=\"$n_\\operatorname{cut}=500$\")\n",
    "plt.xscale('log')\n",
    "#plt.yscale('symlog', linthresh=1e-7)\n",
    "plt.yscale('log')\n",
    "#plt.ylim((1e-8,20))\n",
    "plt.xlim((2,5e-5))\n",
    "plt.grid()\n",
    "plt.xlabel(r\"d$\\tau$ in IPT Fourier transform\")\n",
    "plt.ylabel(r\"L1-norm error on $G_\\operatorname{loc}(\\tau)$\")\n",
    "plt.legend(loc='lower left')\n",
    "plt.text(4e-3, 2.3e-3, r\"$\\beta={}, U={}$\".format(β,U)+\", metallic phase close to transition\\nBethe lattice $t=1$, $i\\omega_n$ sym., no $Re(G)$\", ha='center')\n",
    "plt.savefig(\"Gloc-vs-Glocref.pdf\", bbox_inches='tight')"
   ]
  },
  {
   "cell_type": "code",
   "execution_count": 495,
   "metadata": {},
   "outputs": [],
   "source": [
    "z_ref = quasipart_z (iωn, Σloc_iωn)"
   ]
  },
  {
   "cell_type": "code",
   "execution_count": 566,
   "metadata": {},
   "outputs": [
    {
     "data": {
      "image/png": "[encoded data removed]",
      "text/plain": [
       "<Figure size 432x288 with 1 Axes>"
      ]
     },
     "metadata": {
      "needs_background": "light"
     },
     "output_type": "display_data"
    }
   ],
   "source": [
    "Dtau = [1,0.5,0.1,0.05,0.01,0.005,0.001,0.0005,0.0001,0.00005,0.00001]\n",
    "plt.plot(Dtau, np.abs(Zs_100-z_ref), 'D--', label=\"$n_\\operatorname{cut}=100$\")\n",
    "Dtau = [1,0.5,0.1,0.05,0.01,0.005,0.001,0.0005,0.0001,0.00005,0.00001]\n",
    "plt.plot(Dtau, np.abs(Zs_200-z_ref), '*--', label=\"$n_\\operatorname{cut}=200$\")\n",
    "Dtau = [1,0.5,0.1,0.05,0.01,0.005,0.001,0.0005,0.0001]\n",
    "plt.plot(Dtau, np.abs(Zs_300-z_ref), 'o--', label=\"$n_\\operatorname{cut}=300$\")\n",
    "plt.plot(Dtau, np.abs(Zs_400-z_ref), 'X--', label=\"$n_\\operatorname{cut}=400$\")\n",
    "Dtau = [1,0.5,0.1,0.05,0.01,0.005,0.001,0.0005,0.0001]\n",
    "plt.plot(Dtau, np.abs(Zs_500-z_ref), 'P--', label=\"$n_\\operatorname{cut}=500$\")\n",
    "plt.xscale('log')\n",
    "plt.xlim((0.2,1e-5))\n",
    "plt.yscale('log')\n",
    "plt.ylim((None,1e-3))\n",
    "plt.grid()\n",
    "plt.xlabel(r\"d$\\tau$ in IPT Fourier transform\")\n",
    "plt.ylabel(r\"Error on quasi-particule weight $\\mathcal{Z}$\")\n",
    "plt.text(5e-4, 1.35e-4, r\"$\\beta={}, U={}$\".format(β,U)+\", metallic phase close to transition\\nBethe lattice $t=1$, $i\\omega_n$ sym., no $Re(G)$\", ha='center')\n",
    "plt.legend(loc='lower left')\n",
    "plt.savefig(\"z-vs-zref.pdf\", bbox_inches='tight')"
   ]
  }
 ],
 "metadata": {
  "kernelspec": {
   "display_name": "Python 3",
   "language": "python",
   "name": "python3"
  },
  "language_info": {
   "codemirror_mode": {
    "name": "ipython",
    "version": 3
   },
   "file_extension": ".py",
   "mimetype": "text/x-python",
   "name": "python",
   "nbconvert_exporter": "python",
   "pygments_lexer": "ipython3",
   "version": "3.9.1"
  }
 },
 "nbformat": 4,
 "nbformat_minor": 4
}
